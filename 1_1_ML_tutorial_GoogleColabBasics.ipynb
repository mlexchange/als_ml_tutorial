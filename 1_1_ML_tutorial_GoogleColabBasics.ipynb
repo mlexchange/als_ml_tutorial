{
  "cells": [
    {
      "cell_type": "markdown",
      "metadata": {
        "colab_type": "text",
        "id": "view-in-github"
      },
      "source": [
        "[![Open In Colab](https://colab.research.google.com/assets/colab-badge.svg)](https://colab.research.google.com/github/mlexchange/als_ml_tutorial/blob/main/1_1_ML_tutorial_GoogleColabBasics.ipynb)"
      ]
    },
    {
      "cell_type": "markdown",
      "metadata": {
        "id": "JyG45Qk3qQLS"
      },
      "source": [
        "# Google Colab Basics\n",
        "\n",
        "A notebook is a list of cells. Cells contain either explanatory text or executable code and its output.\n",
        "The cell below is a *code cell* which can be executed. To do so, first select the cell by clicking on it and execute it with either:\n",
        "\n",
        "* Clicking the **Play icon** in the left gutter of the cell;\n",
        "* Typing **Cmd/Ctrl+Enter** to run the cell in place;\n",
        "* Typing **Shift+Enter** to run the cell and move focus to the next cell (adding one if none exists); or\n",
        "* Typing **Alt+Enter** to run the cell and insert a new code cell immediately below it.\n",
        "\n",
        "If you are not logged in, attempting to execute the cell below will prompt you to log in to your Google account.\n",
        "\n",
        "Additionally, you will receive a warning that the code you are attempting to run has not been authored by Google. Click on *Run anyway* to proceed."
      ]
    },
    {
      "cell_type": "code",
      "execution_count": 1,
      "metadata": {
        "colab": {
          "base_uri": "https://localhost:8080/"
        },
        "id": "bFQV7Ehe6Oja",
        "outputId": "4123ef87-a86f-4eb8-b202-923ea94dacb0"
      },
      "outputs": [
        {
          "data": {
            "text/plain": [
              "10"
            ]
          },
          "execution_count": 1,
          "metadata": {},
          "output_type": "execute_result"
        }
      ],
      "source": [
        "a = 10\n",
        "a"
      ]
    },
    {
      "cell_type": "markdown",
      "metadata": {
        "id": "NFz4Ga8I6Oja"
      },
      "source": [
        "For more details on Google Colab basics, see the more detailed feature overview notebook by Google: [![Open In Colab](https://colab.research.google.com/assets/colab-badge.svg)](https://colab.research.google.com/notebooks/basic_features_overview.ipynb)"
      ]
    }
  ],
  "metadata": {
    "colab": {
      "provenance": []
    },
    "kernelspec": {
      "display_name": "Python 3",
      "name": "python3"
    },
    "language_info": {
      "name": "python",
      "version": "3.9.6"
    }
  },
  "nbformat": 4,
  "nbformat_minor": 0
}
