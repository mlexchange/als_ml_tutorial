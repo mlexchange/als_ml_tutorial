{
  "nbformat": 4,
  "nbformat_minor": 0,
  "metadata": {
    "colab": {
      "provenance": [],
      "authorship_tag": "ABX9TyPuv+MxHreKwl1gX4wYxMBp",
      "include_colab_link": true
    },
    "kernelspec": {
      "name": "python3",
      "display_name": "Python 3"
    },
    "language_info": {
      "name": "python"
    }
  },
  "cells": [
    {
      "cell_type": "markdown",
      "metadata": {
        "id": "view-in-github",
        "colab_type": "text"
      },
      "source": [
        "[![Open In Colab](https://colab.research.google.com/assets/colab-badge.svg)](https://colab.research.google.com/github/mlexchange/als_ml_tutorial/blob/main/4_1_ML_tutorial_chatGPT.ipynb)"
      ]
    },
    {
      "cell_type": "markdown",
      "source": [
        "# **chatGPT**\n",
        "by OpenAI\n",
        "What can we do with it?\n",
        "ALWAYS be aware the answer could be VERY wrong.\n"
      ],
      "metadata": {
        "id": "UC6u4hELhfd_"
      }
    },
    {
      "cell_type": "markdown",
      "source": [
        "Let see what we can do\n",
        "\n",
        "\n",
        "1.   Read data\n",
        "2.   Show the data\n",
        "3.   Convert the data to a *tensor*\n",
        "4.   Build a simple autoencoder\n",
        "5.   Show input and output\n",
        "\n"
      ],
      "metadata": {
        "id": "chuE7lGchemR"
      }
    },
    {
      "cell_type": "markdown",
      "source": [
        "Input to chatGPT 4.0:\n",
        "\n",
        "*\"I have a folder called \"images\" with jpg images and I want to load them and convert them to a pytorch tensor\"*"
      ],
      "metadata": {
        "id": "rqbwfi2Li4wI"
      }
    },
    {
      "cell_type": "markdown",
      "source": [
        "Output:"
      ],
      "metadata": {
        "id": "D1QcKSI0jS99"
      }
    },
    {
      "cell_type": "code",
      "source": [
        "import os\n",
        "from PIL import Image\n",
        "import torch\n",
        "from torchvision import transforms\n",
        "\n",
        "# Initialize transformation\n",
        "transform = transforms.Compose([\n",
        "    transforms.Resize((224, 224)),  # Resize images to 224x224\n",
        "    transforms.ToTensor(),  # Convert PIL image to PyTorch tensor\n",
        "])\n",
        "\n",
        "# Folder path\n",
        "folder_path = 'images'\n",
        "\n",
        "# Read image file names from folder\n",
        "image_files = [f for f in os.listdir(folder_path) if f.endswith('.jpg')]\n",
        "\n",
        "# Initialize tensor for storing images\n",
        "tensor_list = []\n",
        "\n",
        "# Loop through image files to open, transform, and convert to tensor\n",
        "for image_file in image_files:\n",
        "    img_path = os.path.join(folder_path, image_file)\n",
        "    with Image.open(img_path) as img:\n",
        "        img_tensor = transform(img)\n",
        "        tensor_list.append(img_tensor)\n",
        "\n",
        "# Convert list of tensors to a single 4D tensor (Batch x Channels x Height x Width)\n",
        "image_tensor = torch.stack(tensor_list)\n",
        "\n",
        "# Print shape to confirm\n",
        "print(image_tensor.shape)\n"
      ],
      "metadata": {
        "id": "4qrf2bISjKdZ"
      },
      "execution_count": null,
      "outputs": []
    },
    {
      "cell_type": "markdown",
      "source": [
        "ahh forgot the size:\n",
        "\n",
        "\"my images are 128 by 128 pixels, don't resize\"\n",
        "(THIS IS NOT TRUE, MY IMAGES ARE 64x64)\n",
        "\n",
        "output:"
      ],
      "metadata": {
        "id": "Ca880C9ZjXZj"
      }
    },
    {
      "cell_type": "code",
      "source": [],
      "metadata": {
        "id": "IUm6EdeQjqyM"
      },
      "execution_count": null,
      "outputs": []
    },
    {
      "cell_type": "code",
      "source": [
        "import os\n",
        "from PIL import Image\n",
        "import torch\n",
        "from torchvision import transforms\n",
        "\n",
        "# Initialize transformation\n",
        "transform = transforms.Compose([\n",
        "    transforms.ToTensor(),  # Convert PIL image to PyTorch tensor\n",
        "])\n",
        "\n",
        "# Folder path\n",
        "folder_path = 'images'\n",
        "\n",
        "# Read image file names from folder\n",
        "image_files = [f for f in os.listdir(folder_path) if f.endswith('.jpg')]\n",
        "\n",
        "# Initialize tensor for storing images\n",
        "tensor_list = []\n",
        "\n",
        "# Loop through image files to open, transform, and convert to tensor\n",
        "for image_file in image_files:\n",
        "    img_path = os.path.join(folder_path, image_file)\n",
        "    with Image.open(img_path) as img:\n",
        "        img_tensor = transform(img)\n",
        "        tensor_list.append(img_tensor)\n",
        "\n",
        "# Convert list of tensors to a single 4D tensor (Batch x Channels x Height x Width)\n",
        "image_tensor = torch.stack(tensor_list)\n",
        "\n",
        "# Print shape to confirm\n",
        "print(image_tensor.shape)\n"
      ],
      "metadata": {
        "colab": {
          "base_uri": "https://localhost:8080/"
        },
        "id": "yA3xuP1cjkkY",
        "outputId": "b7e87307-5db6-48d4-c169-c5d7e8fa9bb6"
      },
      "execution_count": null,
      "outputs": [
        {
          "output_type": "stream",
          "name": "stdout",
          "text": [
            "torch.Size([400, 1, 64, 64])\n"
          ]
        }
      ]
    },
    {
      "cell_type": "markdown",
      "source": [
        "now I want to take a look\n",
        "\"show the last image using matplotlib\""
      ],
      "metadata": {
        "id": "rxvZUO3FkRn0"
      }
    },
    {
      "cell_type": "code",
      "source": [
        "import os\n",
        "import numpy as np\n",
        "from PIL import Image\n",
        "import torch\n",
        "from torchvision import transforms\n",
        "import matplotlib.pyplot as plt\n",
        "\n",
        "# Initialize transformation\n",
        "transform = transforms.Compose([\n",
        "    transforms.ToTensor(),  # Convert PIL image to PyTorch tensor\n",
        "])\n",
        "\n",
        "# Folder path\n",
        "folder_path = 'images'\n",
        "\n",
        "# Read image file names from folder\n",
        "image_files = [f for f in os.listdir(folder_path) if f.endswith('.jpg')]\n",
        "\n",
        "# Initialize tensor for storing images\n",
        "tensor_list = []\n",
        "\n",
        "# Loop through image files to open, transform, and convert to tensor\n",
        "for image_file in image_files:\n",
        "    img_path = os.path.join(folder_path, image_file)\n",
        "    with Image.open(img_path) as img:\n",
        "        img_tensor = transform(img)\n",
        "        tensor_list.append(img_tensor)\n",
        "\n",
        "# Convert list of tensors to a single 4D tensor (Batch x Channels x Height x Width)\n",
        "image_tensor = torch.stack(tensor_list)\n",
        "\n",
        "# Print shape to confirm\n",
        "print(f\"Shape of the 4D tensor: {image_tensor.shape}\")\n",
        "\n",
        "# Show the last image using Matplotlib\n",
        "# First, remove the batch dimension and convert to numpy array\n",
        "last_image = image_tensor[-1].permute(1, 2, 0).numpy()\n",
        "\n",
        "# If the image is grayscale, remove the last dimension\n",
        "if last_image.shape[2] == 1:\n",
        "    last_image = np.squeeze(last_image, axis=2)\n",
        "\n",
        "plt.imshow(last_image, cmap='gray' if last_image.ndim == 2 else None)\n",
        "plt.axis('off')\n",
        "plt.show()\n"
      ],
      "metadata": {
        "colab": {
          "base_uri": "https://localhost:8080/",
          "height": 424
        },
        "id": "HKK24hDXkKqQ",
        "outputId": "71f1580c-ce15-4ed6-f9a1-d87b82cce19e"
      },
      "execution_count": null,
      "outputs": [
        {
          "output_type": "stream",
          "name": "stdout",
          "text": [
            "Shape of the 4D tensor: torch.Size([400, 1, 64, 64])\n"
          ]
        },
        {
          "output_type": "display_data",
          "data": {
            "text/plain": [
              "<Figure size 640x480 with 1 Axes>"
            ],
            "image/png": "[encoded data removed]"
          },
          "metadata": {}
        }
      ]
    },
    {
      "cell_type": "markdown",
      "source": [
        "*\"Let build a simple autoencoder and plot the resutls\"*\n",
        "\n",
        "output:"
      ],
      "metadata": {
        "id": "mWa49PCNkhJI"
      }
    },
    {
      "cell_type": "code",
      "source": [
        "import os\n",
        "import torch\n",
        "import torch.nn as nn\n",
        "import torch.optim as optim\n",
        "from torchvision import transforms\n",
        "from torch.utils.data import DataLoader, TensorDataset\n",
        "import matplotlib.pyplot as plt\n",
        "import numpy as np\n",
        "from PIL import Image\n",
        "\n",
        "# Load Images (repeat code from before)\n",
        "transform = transforms.Compose([transforms.ToTensor()])\n",
        "folder_path = 'images'\n",
        "image_files = [f for f in os.listdir(folder_path) if f.endswith('.jpg')]\n",
        "tensor_list = []\n",
        "\n",
        "for image_file in image_files:\n",
        "    img_path = os.path.join(folder_path, image_file)\n",
        "    with Image.open(img_path) as img:\n",
        "        img_tensor = transform(img)\n",
        "        tensor_list.append(img_tensor)\n",
        "\n",
        "image_tensor = torch.stack(tensor_list)\n",
        "\n",
        "# Create DataLoader\n",
        "batch_size = 8\n",
        "dataset = TensorDataset(image_tensor)\n",
        "dataloader = DataLoader(dataset, batch_size=batch_size, shuffle=True)\n",
        "\n",
        "# Simple Autoencoder\n",
        "class Autoencoder(nn.Module):\n",
        "    def __init__(self):\n",
        "        super(Autoencoder, self).__init__()\n",
        "        self.encoder = nn.Sequential(\n",
        "            nn.Conv2d(3, 64, kernel_size=3, stride=1, padding=1),\n",
        "            nn.ReLU(),\n",
        "            nn.MaxPool2d(kernel_size=2, stride=2)\n",
        "        )\n",
        "        self.decoder = nn.Sequential(\n",
        "            nn.ConvTranspose2d(64, 3, kernel_size=2, stride=2),\n",
        "            nn.Sigmoid()\n",
        "        )\n",
        "\n",
        "    def forward(self, x):\n",
        "        x = self.encoder(x)\n",
        "        x = self.decoder(x)\n",
        "        return x\n",
        "\n",
        "# Initialize model, loss, and optimizer\n",
        "model = Autoencoder()\n",
        "criterion = nn.MSELoss()\n",
        "optimizer = optim.Adam(model.parameters(), lr=0.001)\n",
        "\n",
        "# Training\n",
        "n_epochs = 10\n",
        "\n",
        "for epoch in range(1, n_epochs + 1):\n",
        "    for batch in dataloader:\n",
        "        imgs, = batch\n",
        "        outputs = model(imgs)\n",
        "        loss = criterion(outputs, imgs)\n",
        "\n",
        "        optimizer.zero_grad()\n",
        "        loss.backward()\n",
        "        optimizer.step()\n",
        "\n",
        "    print(f\"Epoch [{epoch}/{n_epochs}], Loss: {loss.item():.4f}\")\n",
        "\n",
        "# Show the original and reconstructed images\n",
        "with torch.no_grad():\n",
        "    model.eval()\n",
        "    reconstructed = model(image_tensor[-1].unsqueeze(0))\n",
        "    reconstructed = reconstructed.squeeze(0).permute(1, 2, 0).numpy()\n",
        "\n",
        "original = image_tensor[-1].permute(1, 2, 0).numpy()\n",
        "\n",
        "fig, axes = plt.subplots(1, 2)\n",
        "axes[0].imshow(original)\n",
        "axes[0].set_title(\"Original\")\n",
        "axes[0].axis('off')\n",
        "\n",
        "axes[1].imshow(reconstructed)\n",
        "axes[1].set_title(\"Reconstructed\")\n",
        "axes[1].axis('off')\n",
        "\n",
        "plt.show()\n"
      ],
      "metadata": {
        "colab": {
          "base_uri": "https://localhost:8080/",
          "height": 417
        },
        "id": "Jy2Is80oka9i",
        "outputId": "45a11af8-c99c-4f06-b5bb-86b0900fbcd4"
      },
      "execution_count": null,
      "outputs": [
        {
          "output_type": "error",
          "ename": "RuntimeError",
          "evalue": "ignored",
          "traceback": [
            "\u001b[0;31m---------------------------------------------------------------------------\u001b[0m",
            "\u001b[0;31mRuntimeError\u001b[0m                              Traceback (most recent call last)",
            "\u001b[0;32m<ipython-input-3-c3a1f57d3b41>\u001b[0m in \u001b[0;36m<cell line: 57>\u001b[0;34m()\u001b[0m\n\u001b[1;32m     58\u001b[0m     \u001b[0;32mfor\u001b[0m \u001b[0mbatch\u001b[0m \u001b[0;32min\u001b[0m \u001b[0mdataloader\u001b[0m\u001b[0;34m:\u001b[0m\u001b[0;34m\u001b[0m\u001b[0;34m\u001b[0m\u001b[0m\n\u001b[1;32m     59\u001b[0m         \u001b[0mimgs\u001b[0m\u001b[0;34m,\u001b[0m \u001b[0;34m=\u001b[0m \u001b[0mbatch\u001b[0m\u001b[0;34m\u001b[0m\u001b[0;34m\u001b[0m\u001b[0m\n\u001b[0;32m---> 60\u001b[0;31m         \u001b[0moutputs\u001b[0m \u001b[0;34m=\u001b[0m \u001b[0mmodel\u001b[0m\u001b[0;34m(\u001b[0m\u001b[0mimgs\u001b[0m\u001b[0;34m)\u001b[0m\u001b[0;34m\u001b[0m\u001b[0;34m\u001b[0m\u001b[0m\n\u001b[0m\u001b[1;32m     61\u001b[0m         \u001b[0mloss\u001b[0m \u001b[0;34m=\u001b[0m \u001b[0mcriterion\u001b[0m\u001b[0;34m(\u001b[0m\u001b[0moutputs\u001b[0m\u001b[0;34m,\u001b[0m \u001b[0mimgs\u001b[0m\u001b[0;34m)\u001b[0m\u001b[0;34m\u001b[0m\u001b[0;34m\u001b[0m\u001b[0m\n\u001b[1;32m     62\u001b[0m \u001b[0;34m\u001b[0m\u001b[0m\n",
            "\u001b[0;32m/usr/local/lib/python3.10/dist-packages/torch/nn/modules/module.py\u001b[0m in \u001b[0;36m_call_impl\u001b[0;34m(self, *args, **kwargs)\u001b[0m\n\u001b[1;32m   1499\u001b[0m                 \u001b[0;32mor\u001b[0m \u001b[0m_global_backward_pre_hooks\u001b[0m \u001b[0;32mor\u001b[0m \u001b[0m_global_backward_hooks\u001b[0m\u001b[0;34m\u001b[0m\u001b[0;34m\u001b[0m\u001b[0m\n\u001b[1;32m   1500\u001b[0m                 or _global_forward_hooks or _global_forward_pre_hooks):\n\u001b[0;32m-> 1501\u001b[0;31m             \u001b[0;32mreturn\u001b[0m \u001b[0mforward_call\u001b[0m\u001b[0;34m(\u001b[0m\u001b[0;34m*\u001b[0m\u001b[0margs\u001b[0m\u001b[0;34m,\u001b[0m \u001b[0;34m**\u001b[0m\u001b[0mkwargs\u001b[0m\u001b[0;34m)\u001b[0m\u001b[0;34m\u001b[0m\u001b[0;34m\u001b[0m\u001b[0m\n\u001b[0m\u001b[1;32m   1502\u001b[0m         \u001b[0;31m# Do not call functions when jit is used\u001b[0m\u001b[0;34m\u001b[0m\u001b[0;34m\u001b[0m\u001b[0m\n\u001b[1;32m   1503\u001b[0m         \u001b[0mfull_backward_hooks\u001b[0m\u001b[0;34m,\u001b[0m \u001b[0mnon_full_backward_hooks\u001b[0m \u001b[0;34m=\u001b[0m \u001b[0;34m[\u001b[0m\u001b[0;34m]\u001b[0m\u001b[0;34m,\u001b[0m \u001b[0;34m[\u001b[0m\u001b[0;34m]\u001b[0m\u001b[0;34m\u001b[0m\u001b[0;34m\u001b[0m\u001b[0m\n",
            "\u001b[0;32m<ipython-input-3-c3a1f57d3b41>\u001b[0m in \u001b[0;36mforward\u001b[0;34m(self, x)\u001b[0m\n\u001b[1;32m     43\u001b[0m \u001b[0;34m\u001b[0m\u001b[0m\n\u001b[1;32m     44\u001b[0m     \u001b[0;32mdef\u001b[0m \u001b[0mforward\u001b[0m\u001b[0;34m(\u001b[0m\u001b[0mself\u001b[0m\u001b[0;34m,\u001b[0m \u001b[0mx\u001b[0m\u001b[0;34m)\u001b[0m\u001b[0;34m:\u001b[0m\u001b[0;34m\u001b[0m\u001b[0;34m\u001b[0m\u001b[0m\n\u001b[0;32m---> 45\u001b[0;31m         \u001b[0mx\u001b[0m \u001b[0;34m=\u001b[0m \u001b[0mself\u001b[0m\u001b[0;34m.\u001b[0m\u001b[0mencoder\u001b[0m\u001b[0;34m(\u001b[0m\u001b[0mx\u001b[0m\u001b[0;34m)\u001b[0m\u001b[0;34m\u001b[0m\u001b[0;34m\u001b[0m\u001b[0m\n\u001b[0m\u001b[1;32m     46\u001b[0m         \u001b[0mx\u001b[0m \u001b[0;34m=\u001b[0m \u001b[0mself\u001b[0m\u001b[0;34m.\u001b[0m\u001b[0mdecoder\u001b[0m\u001b[0;34m(\u001b[0m\u001b[0mx\u001b[0m\u001b[0;34m)\u001b[0m\u001b[0;34m\u001b[0m\u001b[0;34m\u001b[0m\u001b[0m\n\u001b[1;32m     47\u001b[0m         \u001b[0;32mreturn\u001b[0m \u001b[0mx\u001b[0m\u001b[0;34m\u001b[0m\u001b[0;34m\u001b[0m\u001b[0m\n",
            "\u001b[0;32m/usr/local/lib/python3.10/dist-packages/torch/nn/modules/module.py\u001b[0m in \u001b[0;36m_call_impl\u001b[0;34m(self, *args, **kwargs)\u001b[0m\n\u001b[1;32m   1499\u001b[0m                 \u001b[0;32mor\u001b[0m \u001b[0m_global_backward_pre_hooks\u001b[0m \u001b[0;32mor\u001b[0m \u001b[0m_global_backward_hooks\u001b[0m\u001b[0;34m\u001b[0m\u001b[0;34m\u001b[0m\u001b[0m\n\u001b[1;32m   1500\u001b[0m                 or _global_forward_hooks or _global_forward_pre_hooks):\n\u001b[0;32m-> 1501\u001b[0;31m             \u001b[0;32mreturn\u001b[0m \u001b[0mforward_call\u001b[0m\u001b[0;34m(\u001b[0m\u001b[0;34m*\u001b[0m\u001b[0margs\u001b[0m\u001b[0;34m,\u001b[0m \u001b[0;34m**\u001b[0m\u001b[0mkwargs\u001b[0m\u001b[0;34m)\u001b[0m\u001b[0;34m\u001b[0m\u001b[0;34m\u001b[0m\u001b[0m\n\u001b[0m\u001b[1;32m   1502\u001b[0m         \u001b[0;31m# Do not call functions when jit is used\u001b[0m\u001b[0;34m\u001b[0m\u001b[0;34m\u001b[0m\u001b[0m\n\u001b[1;32m   1503\u001b[0m         \u001b[0mfull_backward_hooks\u001b[0m\u001b[0;34m,\u001b[0m \u001b[0mnon_full_backward_hooks\u001b[0m \u001b[0;34m=\u001b[0m \u001b[0;34m[\u001b[0m\u001b[0;34m]\u001b[0m\u001b[0;34m,\u001b[0m \u001b[0;34m[\u001b[0m\u001b[0;34m]\u001b[0m\u001b[0;34m\u001b[0m\u001b[0;34m\u001b[0m\u001b[0m\n",
            "\u001b[0;32m/usr/local/lib/python3.10/dist-packages/torch/nn/modules/container.py\u001b[0m in \u001b[0;36mforward\u001b[0;34m(self, input)\u001b[0m\n\u001b[1;32m    215\u001b[0m     \u001b[0;32mdef\u001b[0m \u001b[0mforward\u001b[0m\u001b[0;34m(\u001b[0m\u001b[0mself\u001b[0m\u001b[0;34m,\u001b[0m \u001b[0minput\u001b[0m\u001b[0;34m)\u001b[0m\u001b[0;34m:\u001b[0m\u001b[0;34m\u001b[0m\u001b[0;34m\u001b[0m\u001b[0m\n\u001b[1;32m    216\u001b[0m         \u001b[0;32mfor\u001b[0m \u001b[0mmodule\u001b[0m \u001b[0;32min\u001b[0m \u001b[0mself\u001b[0m\u001b[0;34m:\u001b[0m\u001b[0;34m\u001b[0m\u001b[0;34m\u001b[0m\u001b[0m\n\u001b[0;32m--> 217\u001b[0;31m             \u001b[0minput\u001b[0m \u001b[0;34m=\u001b[0m \u001b[0mmodule\u001b[0m\u001b[0;34m(\u001b[0m\u001b[0minput\u001b[0m\u001b[0;34m)\u001b[0m\u001b[0;34m\u001b[0m\u001b[0;34m\u001b[0m\u001b[0m\n\u001b[0m\u001b[1;32m    218\u001b[0m         \u001b[0;32mreturn\u001b[0m \u001b[0minput\u001b[0m\u001b[0;34m\u001b[0m\u001b[0;34m\u001b[0m\u001b[0m\n\u001b[1;32m    219\u001b[0m \u001b[0;34m\u001b[0m\u001b[0m\n",
            "\u001b[0;32m/usr/local/lib/python3.10/dist-packages/torch/nn/modules/module.py\u001b[0m in \u001b[0;36m_call_impl\u001b[0;34m(self, *args, **kwargs)\u001b[0m\n\u001b[1;32m   1499\u001b[0m                 \u001b[0;32mor\u001b[0m \u001b[0m_global_backward_pre_hooks\u001b[0m \u001b[0;32mor\u001b[0m \u001b[0m_global_backward_hooks\u001b[0m\u001b[0;34m\u001b[0m\u001b[0;34m\u001b[0m\u001b[0m\n\u001b[1;32m   1500\u001b[0m                 or _global_forward_hooks or _global_forward_pre_hooks):\n\u001b[0;32m-> 1501\u001b[0;31m             \u001b[0;32mreturn\u001b[0m \u001b[0mforward_call\u001b[0m\u001b[0;34m(\u001b[0m\u001b[0;34m*\u001b[0m\u001b[0margs\u001b[0m\u001b[0;34m,\u001b[0m \u001b[0;34m**\u001b[0m\u001b[0mkwargs\u001b[0m\u001b[0;34m)\u001b[0m\u001b[0;34m\u001b[0m\u001b[0;34m\u001b[0m\u001b[0m\n\u001b[0m\u001b[1;32m   1502\u001b[0m         \u001b[0;31m# Do not call functions when jit is used\u001b[0m\u001b[0;34m\u001b[0m\u001b[0;34m\u001b[0m\u001b[0m\n\u001b[1;32m   1503\u001b[0m         \u001b[0mfull_backward_hooks\u001b[0m\u001b[0;34m,\u001b[0m \u001b[0mnon_full_backward_hooks\u001b[0m \u001b[0;34m=\u001b[0m \u001b[0;34m[\u001b[0m\u001b[0;34m]\u001b[0m\u001b[0;34m,\u001b[0m \u001b[0;34m[\u001b[0m\u001b[0;34m]\u001b[0m\u001b[0;34m\u001b[0m\u001b[0;34m\u001b[0m\u001b[0m\n",
            "\u001b[0;32m/usr/local/lib/python3.10/dist-packages/torch/nn/modules/conv.py\u001b[0m in \u001b[0;36mforward\u001b[0;34m(self, input)\u001b[0m\n\u001b[1;32m    461\u001b[0m \u001b[0;34m\u001b[0m\u001b[0m\n\u001b[1;32m    462\u001b[0m     \u001b[0;32mdef\u001b[0m \u001b[0mforward\u001b[0m\u001b[0;34m(\u001b[0m\u001b[0mself\u001b[0m\u001b[0;34m,\u001b[0m \u001b[0minput\u001b[0m\u001b[0;34m:\u001b[0m \u001b[0mTensor\u001b[0m\u001b[0;34m)\u001b[0m \u001b[0;34m->\u001b[0m \u001b[0mTensor\u001b[0m\u001b[0;34m:\u001b[0m\u001b[0;34m\u001b[0m\u001b[0;34m\u001b[0m\u001b[0m\n\u001b[0;32m--> 463\u001b[0;31m         \u001b[0;32mreturn\u001b[0m \u001b[0mself\u001b[0m\u001b[0;34m.\u001b[0m\u001b[0m_conv_forward\u001b[0m\u001b[0;34m(\u001b[0m\u001b[0minput\u001b[0m\u001b[0;34m,\u001b[0m \u001b[0mself\u001b[0m\u001b[0;34m.\u001b[0m\u001b[0mweight\u001b[0m\u001b[0;34m,\u001b[0m \u001b[0mself\u001b[0m\u001b[0;34m.\u001b[0m\u001b[0mbias\u001b[0m\u001b[0;34m)\u001b[0m\u001b[0;34m\u001b[0m\u001b[0;34m\u001b[0m\u001b[0m\n\u001b[0m\u001b[1;32m    464\u001b[0m \u001b[0;34m\u001b[0m\u001b[0m\n\u001b[1;32m    465\u001b[0m \u001b[0;32mclass\u001b[0m \u001b[0mConv3d\u001b[0m\u001b[0;34m(\u001b[0m\u001b[0m_ConvNd\u001b[0m\u001b[0;34m)\u001b[0m\u001b[0;34m:\u001b[0m\u001b[0;34m\u001b[0m\u001b[0;34m\u001b[0m\u001b[0m\n",
            "\u001b[0;32m/usr/local/lib/python3.10/dist-packages/torch/nn/modules/conv.py\u001b[0m in \u001b[0;36m_conv_forward\u001b[0;34m(self, input, weight, bias)\u001b[0m\n\u001b[1;32m    457\u001b[0m                             \u001b[0mweight\u001b[0m\u001b[0;34m,\u001b[0m \u001b[0mbias\u001b[0m\u001b[0;34m,\u001b[0m \u001b[0mself\u001b[0m\u001b[0;34m.\u001b[0m\u001b[0mstride\u001b[0m\u001b[0;34m,\u001b[0m\u001b[0;34m\u001b[0m\u001b[0;34m\u001b[0m\u001b[0m\n\u001b[1;32m    458\u001b[0m                             _pair(0), self.dilation, self.groups)\n\u001b[0;32m--> 459\u001b[0;31m         return F.conv2d(input, weight, bias, self.stride,\n\u001b[0m\u001b[1;32m    460\u001b[0m                         self.padding, self.dilation, self.groups)\n\u001b[1;32m    461\u001b[0m \u001b[0;34m\u001b[0m\u001b[0m\n",
            "\u001b[0;31mRuntimeError\u001b[0m: Given groups=1, weight of size [64, 3, 3, 3], expected input[8, 1, 64, 64] to have 3 channels, but got 1 channels instead"
          ]
        }
      ]
    },
    {
      "cell_type": "markdown",
      "source": [
        "Turns out the images are grayscale and only have a single channel, so I just copy\n",
        "\"\n",
        "RuntimeError: Given groups=1, weight of size [64, 3, 3, 3], expected input[8, 1, 64, 64] to have 3 channels, but got 1 channels instead\" into chatGPT\n"
      ],
      "metadata": {
        "id": "5CoPTjVolFLi"
      }
    },
    {
      "cell_type": "markdown",
      "source": [
        "Option 1: Grayscale Images\n",
        "Change the in_channels of nn.Conv2d to 1:\n",
        "\n",
        "python\n",
        "Copy code\n",
        "self.encoder = nn.Sequential(\n",
        "    nn.Conv2d(1, 64, kernel_size=3, stride=1, padding=1),  # Change here\n",
        "    nn.ReLU(),\n",
        "    nn.MaxPool2d(kernel_size=2, stride=2)\n",
        ")\n",
        "\n",
        "\n",
        "lets try that"
      ],
      "metadata": {
        "id": "ZLMlAhDwlYAj"
      }
    },
    {
      "cell_type": "code",
      "source": [
        "import os\n",
        "import torch\n",
        "import torch.nn as nn\n",
        "import torch.optim as optim\n",
        "from torchvision import transforms\n",
        "from torch.utils.data import DataLoader, TensorDataset\n",
        "import matplotlib.pyplot as plt\n",
        "import numpy as np\n",
        "from PIL import Image\n",
        "\n",
        "# Load Images (repeat code from before)\n",
        "transform = transforms.Compose([transforms.ToTensor()])\n",
        "folder_path = 'images'\n",
        "image_files = [f for f in os.listdir(folder_path) if f.endswith('.jpg')]\n",
        "tensor_list = []\n",
        "\n",
        "for image_file in image_files:\n",
        "    img_path = os.path.join(folder_path, image_file)\n",
        "    with Image.open(img_path) as img:\n",
        "        img_tensor = transform(img)\n",
        "        tensor_list.append(img_tensor)\n",
        "\n",
        "image_tensor = torch.stack(tensor_list)\n",
        "\n",
        "# Create DataLoader\n",
        "batch_size = 8\n",
        "dataset = TensorDataset(image_tensor)\n",
        "dataloader = DataLoader(dataset, batch_size=batch_size, shuffle=True)\n",
        "\n",
        "# Simple Autoencoder\n",
        "class Autoencoder(nn.Module):\n",
        "    def __init__(self):\n",
        "        super(Autoencoder, self).__init__()\n",
        "        self.encoder = nn.Sequential(\n",
        "            nn.Conv2d(1, 64, kernel_size=3, stride=1, padding=1),\n",
        "            nn.ReLU(),\n",
        "            nn.MaxPool2d(kernel_size=2, stride=2)\n",
        "        )\n",
        "        self.decoder = nn.Sequential(\n",
        "            nn.ConvTranspose2d(64, 3, kernel_size=2, stride=2),\n",
        "            nn.Sigmoid()\n",
        "        )\n",
        "\n",
        "    def forward(self, x):\n",
        "        x = self.encoder(x)\n",
        "        x = self.decoder(x)\n",
        "        return x\n",
        "\n",
        "# Initialize model, loss, and optimizer\n",
        "model = Autoencoder()\n",
        "criterion = nn.MSELoss()\n",
        "optimizer = optim.Adam(model.parameters(), lr=0.001)\n",
        "\n",
        "# Training\n",
        "n_epochs = 10\n",
        "\n",
        "for epoch in range(1, n_epochs + 1):\n",
        "    for batch in dataloader:\n",
        "        imgs, = batch\n",
        "        outputs = model(imgs)\n",
        "        loss = criterion(outputs, imgs)\n",
        "\n",
        "        optimizer.zero_grad()\n",
        "        loss.backward()\n",
        "        optimizer.step()\n",
        "\n",
        "    print(f\"Epoch [{epoch}/{n_epochs}], Loss: {loss.item():.4f}\")\n",
        "\n",
        "# Show the original and reconstructed images\n",
        "with torch.no_grad():\n",
        "    model.eval()\n",
        "    reconstructed = model(image_tensor[-1].unsqueeze(0))\n",
        "    reconstructed = reconstructed.squeeze(0).permute(1, 2, 0).numpy()\n",
        "\n",
        "original = image_tensor[-1].permute(1, 2, 0).numpy()\n",
        "\n",
        "fig, axes = plt.subplots(1, 2)\n",
        "axes[0].imshow(original)\n",
        "axes[0].set_title(\"Original\")\n",
        "axes[0].axis('off')\n",
        "\n",
        "axes[1].imshow(reconstructed)\n",
        "axes[1].set_title(\"Reconstructed\")\n",
        "axes[1].axis('off')\n",
        "\n",
        "plt.show()\n"
      ],
      "metadata": {
        "colab": {
          "base_uri": "https://localhost:8080/",
          "height": 518
        },
        "id": "aEPKmsPdlS21",
        "outputId": "535d1d1f-69e1-403a-ac43-4781fe0001fa"
      },
      "execution_count": null,
      "outputs": [
        {
          "output_type": "stream",
          "name": "stderr",
          "text": [
            "/usr/local/lib/python3.10/dist-packages/torch/nn/modules/loss.py:536: UserWarning: Using a target size (torch.Size([8, 1, 64, 64])) that is different to the input size (torch.Size([8, 3, 64, 64])). This will likely lead to incorrect results due to broadcasting. Please ensure they have the same size.\n",
            "  return F.mse_loss(input, target, reduction=self.reduction)\n"
          ]
        },
        {
          "output_type": "stream",
          "name": "stdout",
          "text": [
            "Epoch [1/10], Loss: 0.0571\n",
            "Epoch [2/10], Loss: 0.0191\n",
            "Epoch [3/10], Loss: 0.0073\n",
            "Epoch [4/10], Loss: 0.0056\n",
            "Epoch [5/10], Loss: 0.0028\n",
            "Epoch [6/10], Loss: 0.0035\n",
            "Epoch [7/10], Loss: 0.0022\n",
            "Epoch [8/10], Loss: 0.0022\n",
            "Epoch [9/10], Loss: 0.0032\n",
            "Epoch [10/10], Loss: 0.0031\n"
          ]
        },
        {
          "output_type": "display_data",
          "data": {
            "text/plain": [
              "<Figure size 640x480 with 2 Axes>"
            ],
            "image/png": "[encoded data removed]"
          },
          "metadata": {}
        }
      ]
    },
    {
      "cell_type": "markdown",
      "source": [
        "Works VERY well IF you know what you are doing."
      ],
      "metadata": {
        "id": "sXebhBmRlrcp"
      }
    },
    {
      "cell_type": "code",
      "source": [],
      "metadata": {
        "id": "c55V186NlkMX"
      },
      "execution_count": null,
      "outputs": []
    }
  ]
}