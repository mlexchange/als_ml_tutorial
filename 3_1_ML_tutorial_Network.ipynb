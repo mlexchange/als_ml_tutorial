{
 "cells": [
  {
   "cell_type": "markdown",
   "metadata": {},
   "source": [
    "# Network\n",
    "\n",
    "Goal of this part: Train an Autoencoder on our scattering patterns.\n",
    "\n",
    "Steps:\n",
    "1. Define the architecture of the *encoder* and *decoder*\n",
    "2. Select *hyper parameters* (learning rate, optimizer, ..) for the training\n",
    "3. Load the data (with the data loader that we used before)\n",
    "4. Train our model\n",
    "5. Look at the results:\n",
    "\n",
    "Outlook:\n",
    "- Fitting: What happens during the training?\n",
    "- Dimensionality reduction: Using the latent space for data exploration"
   ]
  },
  {
   "cell_type": "code",
   "execution_count": 1,
   "metadata": {},
   "outputs": [],
   "source": [
    "# Optional, if running on Google Colab, install the relevant libraries\n",
    "#!python -m pip install torch torchvision"
   ]
  },
  {
   "cell_type": "code",
   "execution_count": 2,
   "metadata": {},
   "outputs": [
    {
     "name": "stderr",
     "output_type": "stream",
     "text": [
      "/Users/wiebke/Documents/Projects/2023.08 ML User Meeting/als_ml_tutorial/tutorial-env/lib/python3.9/site-packages/urllib3/__init__.py:34: NotOpenSSLWarning: urllib3 v2.0 only supports OpenSSL 1.1.1+, currently the 'ssl' module is compiled with 'LibreSSL 2.8.3'. See: https://github.com/urllib3/urllib3/issues/3020\n",
      "  warnings.warn(\n"
     ]
    }
   ],
   "source": [
    "import torch\n",
    "import torch.nn as nn\n",
    "from torch.utils.data import DataLoader\n",
    "import torchvision.transforms as transforms\n",
    "import matplotlib.pyplot as plt"
   ]
  },
  {
   "cell_type": "markdown",
   "metadata": {},
   "source": [
    "# Basic Neural Network Setup in PyTorch\n",
    "\n",
    "[`nn.Module`](https://pytorch.org/docs/stable/generated/torch.nn.Module.html) is the base class for neural network models. \n",
    "When defining your own model, the class you create for the model should be a subclass of this class. It should initialize its super class and overwrite the `forward` function. \n",
    "\n",
    "```python\n",
    "class MyModel(nn.Module):\n",
    "    def __init__(self):\n",
    "        super().__init__()\n",
    "        # Definition of your model\n",
    "        # For simple models you can use pre-defined layers \n",
    "        # available in PyTorch and wrap them in nn.Sequential()\n",
    "        # Typical in an Autoencoder: \n",
    "        # - Fully connected layers: \n",
    "        #   nn.Linear(input_dim, output_dim)\n",
    "        # - Activation functions: \n",
    "        #   nn.ReLU(), nn.Sigmoid(), nn.Tanh(), nn.LeakyReLU().  \n",
    "        self.model = nn.Sequential(nn.Linear(64*64, 32), nn.nn.ReLU())\n",
    "\n",
    "    def forward(self, x):\n",
    "        # Definition of the forward step\n",
    "        return self.model(x)\n",
    "\n",
    "```"
   ]
  },
  {
   "cell_type": "markdown",
   "metadata": {},
   "source": [
    "# Autoencoder\n",
    "\n",
    "An autoencoder consists of two parts: the *encoder* and the *decoder*."
   ]
  },
  {
   "cell_type": "code",
   "execution_count": 4,
   "metadata": {},
   "outputs": [],
   "source": [
    "class Encoder(nn.Module):\n",
    "    def __init__(self, input_size=64 * 64, latent_dim=32):\n",
    "        super(Encoder, self).__init__()\n",
    "\n",
    "        self.input_size = input_size\n",
    "        self.latent_dim = latent_dim\n",
    "\n",
    "        self.encoder = nn.Sequential(nn.Linear(input_size, latent_dim), nn.ReLU())\n",
    "\n",
    "    def forward(self, x):\n",
    "        # Feed x (the input image) into the encoder\n",
    "        return self.encoder(x)"
   ]
  },
  {
   "cell_type": "markdown",
   "metadata": {},
   "source": [
    "With this configuration the encoder has a number of *weights* or *parameters* that we will later optimize. These can be inspected with the `.parameters()` function.\n",
    "\n",
    "Changing the size of the latent space will adapt the total number of weights."
   ]
  },
  {
   "cell_type": "code",
   "execution_count": 5,
   "metadata": {},
   "outputs": [
    {
     "name": "stdout",
     "output_type": "stream",
     "text": [
      "<class 'torch.nn.parameter.Parameter'> torch.Size([32, 4096])\n",
      "<class 'torch.nn.parameter.Parameter'> torch.Size([32])\n"
     ]
    }
   ],
   "source": [
    "encoder = Encoder()\n",
    "# encoder = Encoder(latent_dim = 40)\n",
    "for param in encoder.parameters():\n",
    "    print(type(param), param.size())"
   ]
  },
  {
   "cell_type": "code",
   "execution_count": 6,
   "metadata": {},
   "outputs": [],
   "source": [
    "class Decoder(nn.Module):\n",
    "    def __init__(self, latent_dim=32, output_size=64 * 64):\n",
    "        super(Decoder, self).__init__()\n",
    "\n",
    "        self.latent_dim = latent_dim\n",
    "        self.output_size = output_size\n",
    "\n",
    "        self.encoder = nn.Sequential(\n",
    "            nn.Linear(self.latent_dim, self.output_size), nn.ReLU()\n",
    "        )\n",
    "\n",
    "    def forward(self, x):\n",
    "        # Feed x (the result from the encoder) into the decoder\n",
    "        return self.decoder(x)"
   ]
  },
  {
   "cell_type": "code",
   "execution_count": 7,
   "metadata": {},
   "outputs": [],
   "source": [
    "class AutoEncoder(nn.Module):\n",
    "    def __init__(self, input_size=64 * 64, latent_dim=32):\n",
    "        super(AutoEncoder, self).__init__()\n",
    "\n",
    "        self.input_size = input_size\n",
    "        self.latent_dim = latent_dim\n",
    "\n",
    "        self.encoder = Encoder(input_size=self.input_size, latent_dim=self.latent_dim)\n",
    "        self.decoder = Decoder(latent_dim=self.latent_dim, output_size=self.input_size)\n",
    "\n",
    "    def forward(self, x):\n",
    "        # Feed x (the input image) through the entire autoencoder\n",
    "        # i.e. calculate the reconstructed image\n",
    "        latent_representation = self.encoder(x)\n",
    "        return self.decoder(latent_representation)"
   ]
  },
  {
   "cell_type": "markdown",
   "metadata": {},
   "source": [
    "# Hyperparameters\n",
    "\n",
    "Parameters that affect model architecture and training procedure."
   ]
  },
  {
   "cell_type": "code",
   "execution_count": 8,
   "metadata": {},
   "outputs": [],
   "source": [
    "hyper_parameters = {\n",
    "    \"num_epochs\": 100,\n",
    "    \"batch_size\": 40,\n",
    "    \"learning_rate\": 1e-3,\n",
    "    \"latent_dim\": 32,\n",
    "}"
   ]
  },
  {
   "cell_type": "markdown",
   "metadata": {},
   "source": [
    "# Optimization\n",
    "\n",
    "We also need to define the *loss* and *optimizer*."
   ]
  },
  {
   "cell_type": "code",
   "execution_count": 9,
   "metadata": {},
   "outputs": [
    {
     "ename": "AttributeError",
     "evalue": "'dict' object has no attribute 'latent_dim'",
     "output_type": "error",
     "traceback": [
      "\u001b[0;31m---------------------------------------------------------------------------\u001b[0m",
      "\u001b[0;31mAttributeError\u001b[0m                            Traceback (most recent call last)",
      "Cell \u001b[0;32mIn[9], line 2\u001b[0m\n\u001b[1;32m      1\u001b[0m \u001b[39m# Initialize the model we just defined\u001b[39;00m\n\u001b[0;32m----> 2\u001b[0m autoencoder \u001b[39m=\u001b[39m AutoEncoder(input_size\u001b[39m=\u001b[39m\u001b[39m64\u001b[39m \u001b[39m*\u001b[39m \u001b[39m64\u001b[39m, latent_dim\u001b[39m=\u001b[39mhyper_parameters\u001b[39m.\u001b[39;49mlatent_dim)\n\u001b[1;32m      4\u001b[0m \u001b[39m# Validation using MSE Loss function\u001b[39;00m\n\u001b[1;32m      5\u001b[0m loss_function \u001b[39m=\u001b[39m torch\u001b[39m.\u001b[39mnn\u001b[39m.\u001b[39mMSELoss()\n",
      "\u001b[0;31mAttributeError\u001b[0m: 'dict' object has no attribute 'latent_dim'"
     ]
    }
   ],
   "source": [
    "# Initialize the model we just defined\n",
    "autoencoder = AutoEncoder(input_size=64 * 64, latent_dim=hyper_parameters['latent_dim'])\n",
    "\n",
    "# Validation using MSE Loss function\n",
    "loss_function = torch.nn.MSELoss()\n",
    "\n",
    "# Using an Adam Optimizer with lr = 0.1\n",
    "optimizer = torch.optim.Adam(\n",
    "    autoencoder.parameters(), lr=hyper_parameters['learning_rate']\n",
    ")"
   ]
  },
  {
   "cell_type": "code",
   "execution_count": null,
   "metadata": {},
   "outputs": [],
   "source": [
    "dataset = ...\n",
    "dataloader = DataLoader(dataset, batch_size=hyper_parameters['batch_size'], shuffle=True)"
   ]
  },
  {
   "cell_type": "code",
   "execution_count": null,
   "metadata": {},
   "outputs": [],
   "source": [
    "for epoch in range(hyper_parameters['num_epochs']):\n",
    "    for data in dataloader:\n",
    "        input_pattern, _ = data\n",
    "        # Forward step\n",
    "        reconstruction = autoencoder(input_pattern)\n",
    "        loss = loss_function(reconstruction, input_pattern)\n",
    "        # Backward step\n",
    "        optimizer.zero_grad()\n",
    "        loss.backward()\n",
    "        optimizer.step()"
   ]
  }
 ],
 "metadata": {
  "kernelspec": {
   "display_name": "tutorial-env",
   "language": "python",
   "name": "python3"
  },
  "language_info": {
   "codemirror_mode": {
    "name": "ipython",
    "version": 3
   },
   "file_extension": ".py",
   "mimetype": "text/x-python",
   "name": "python",
   "nbconvert_exporter": "python",
   "pygments_lexer": "ipython3",
   "version": "3.9.6"
  },
  "orig_nbformat": 4
 },
 "nbformat": 4,
 "nbformat_minor": 2
}
